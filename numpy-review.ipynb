{
  "nbformat": 4,
  "nbformat_minor": 0,
  "metadata": {
    "colab": {
      "provenance": []
    },
    "kernelspec": {
      "name": "python3",
      "display_name": "Python 3"
    },
    "language_info": {
      "name": "python"
    }
  },
  "cells": [
    {
      "cell_type": "markdown",
      "source": [
        "#vamos ver um pouco sobre Numpy\n",
        "\n",
        "#####a biblioteca numpy é usada na análise de dados por conta de seu tempo de processamento em comparação com as listas"
      ],
      "metadata": {
        "id": "j02rtl1Y3g_9"
      }
    },
    {
      "cell_type": "code",
      "source": [
        "import numpy as np"
      ],
      "metadata": {
        "id": "cCXOA6O84U1H"
      },
      "execution_count": null,
      "outputs": []
    },
    {
      "cell_type": "markdown",
      "source": [
        "#o que é um array?\n",
        "\n",
        "#####um array é um conjunto de dados (tipo uma lista)\n",
        "\n",
        "#####existem alguns tipos de arrays, sendo eles: vertor (com apenas uma dimensão), matriz (com duas dimensões) e o tensor (com três os mais dimensões)"
      ],
      "metadata": {
        "id": "Q0BX81ib5Q-G"
      }
    },
    {
      "cell_type": "markdown",
      "source": [
        "#vamos criar um array agora"
      ],
      "metadata": {
        "id": "97sJyUnR5sKZ"
      }
    },
    {
      "cell_type": "code",
      "source": [
        "a = np.array([[1, 2, 3], [4, 5, 6], [7, 8, 9]])\n",
        "print(a)\n",
        "\n",
        "print(type(a))"
      ],
      "metadata": {
        "colab": {
          "base_uri": "https://localhost:8080/"
        },
        "id": "7wGcujCM5ud9",
        "outputId": "8b35dbd6-20ff-4950-f9f0-e18598ecb818"
      },
      "execution_count": 7,
      "outputs": [
        {
          "output_type": "stream",
          "name": "stdout",
          "text": [
            "[[1 2 3]\n",
            " [4 5 6]\n",
            " [7 8 9]]\n",
            "<class 'numpy.ndarray'>\n"
          ]
        }
      ]
    },
    {
      "cell_type": "markdown",
      "source": [
        "#trabalhando com np.zeros()\n",
        "\n",
        "#####para trabalharmos com arrays onde todos os valores sejam zeros"
      ],
      "metadata": {
        "id": "I6S1QksK7JY7"
      }
    },
    {
      "cell_type": "code",
      "source": [
        "zero_array = np.zeros(shape=(5, 3, 6))\n",
        "print(zero_array)"
      ],
      "metadata": {
        "colab": {
          "base_uri": "https://localhost:8080/"
        },
        "id": "U09UuZV47MI-",
        "outputId": "06d26ea3-954c-4599-a475-75f8d0cc1475"
      },
      "execution_count": 11,
      "outputs": [
        {
          "output_type": "stream",
          "name": "stdout",
          "text": [
            "[[[0. 0. 0. 0. 0. 0.]\n",
            "  [0. 0. 0. 0. 0. 0.]\n",
            "  [0. 0. 0. 0. 0. 0.]]\n",
            "\n",
            " [[0. 0. 0. 0. 0. 0.]\n",
            "  [0. 0. 0. 0. 0. 0.]\n",
            "  [0. 0. 0. 0. 0. 0.]]\n",
            "\n",
            " [[0. 0. 0. 0. 0. 0.]\n",
            "  [0. 0. 0. 0. 0. 0.]\n",
            "  [0. 0. 0. 0. 0. 0.]]\n",
            "\n",
            " [[0. 0. 0. 0. 0. 0.]\n",
            "  [0. 0. 0. 0. 0. 0.]\n",
            "  [0. 0. 0. 0. 0. 0.]]\n",
            "\n",
            " [[0. 0. 0. 0. 0. 0.]\n",
            "  [0. 0. 0. 0. 0. 0.]\n",
            "  [0. 0. 0. 0. 0. 0.]]]\n"
          ]
        }
      ]
    },
    {
      "cell_type": "markdown",
      "source": [
        "#usando o np.ones()\n",
        "\n",
        "#####para trabalharmos com arrays onde todos os valores sejam um"
      ],
      "metadata": {
        "id": "8L7CxRnT7_ey"
      }
    },
    {
      "cell_type": "code",
      "source": [
        "um_array = np.ones(5)\n",
        "print(um_array)"
      ],
      "metadata": {
        "colab": {
          "base_uri": "https://localhost:8080/"
        },
        "id": "puYnbzFv8B2t",
        "outputId": "096c7eac-066d-4af7-979e-6d3c4d181c98"
      },
      "execution_count": 15,
      "outputs": [
        {
          "output_type": "stream",
          "name": "stdout",
          "text": [
            "[1. 1. 1. 1. 1.]\n"
          ]
        }
      ]
    },
    {
      "cell_type": "markdown",
      "source": [
        "#usando o np.empty()\n",
        "\n",
        "#####ele não deixa nenhum valor ser vazio, por isso entrega vários números aleatórios"
      ],
      "metadata": {
        "id": "GTxU5ZlD8p8i"
      }
    },
    {
      "cell_type": "code",
      "source": [
        "b = np.empty(shape=(2, 3))\n",
        "print(b)"
      ],
      "metadata": {
        "colab": {
          "base_uri": "https://localhost:8080/"
        },
        "id": "mP0_3y5b8bIL",
        "outputId": "2ccd4434-2694-4d73-88c9-954f0a369ac5"
      },
      "execution_count": 19,
      "outputs": [
        {
          "output_type": "stream",
          "name": "stdout",
          "text": [
            "[[4.9e-324 9.9e-324 1.5e-323]\n",
            " [2.0e-323 2.5e-323 3.0e-323]]\n"
          ]
        }
      ]
    },
    {
      "cell_type": "markdown",
      "source": [
        "#usando o np.arange()\n",
        "\n",
        "#####trabalha, por exemplo, com listas de números decorrentes, tipo, quero uma contagem de 10 números de 0 à 10 (não precisa definir valor inicial) e, se quiser começar por outro valor da também, só definir o valor inicial juntamente com o ponto de parada, obs: também é possível configurar o pulo (steep)\n",
        "\n"
      ],
      "metadata": {
        "id": "fLQ-47Io861L"
      }
    },
    {
      "cell_type": "code",
      "source": [
        "c = np.arange(10)\n",
        "print(c)\n",
        "\n",
        "d = np.arange(5, 50, 5)\n",
        "print(d)"
      ],
      "metadata": {
        "colab": {
          "base_uri": "https://localhost:8080/"
        },
        "id": "KYh2OXcD885J",
        "outputId": "67b830f8-958a-4138-b518-50815435d88c"
      },
      "execution_count": 28,
      "outputs": [
        {
          "output_type": "stream",
          "name": "stdout",
          "text": [
            "[0 1 2 3 4 5 6 7 8 9]\n",
            "[]\n"
          ]
        }
      ]
    },
    {
      "cell_type": "markdown",
      "source": [
        "#usando o np.linspace()\n",
        "\n",
        "#####é um array com uma sequência linear, baseando-se na equação da reta"
      ],
      "metadata": {
        "id": "36Z9Lva-99-c"
      }
    },
    {
      "cell_type": "code",
      "source": [
        "e = np.linspace(0, 100, num=10, endpoint=False)\n",
        "print(e)"
      ],
      "metadata": {
        "colab": {
          "base_uri": "https://localhost:8080/"
        },
        "id": "2MKoe8-i-CTe",
        "outputId": "2bfea5c2-c4ba-4709-a989-5cd74b87bd1b"
      },
      "execution_count": 33,
      "outputs": [
        {
          "output_type": "stream",
          "name": "stdout",
          "text": [
            "[ 0. 10. 20. 30. 40. 50. 60. 70. 80. 90.]\n"
          ]
        }
      ]
    },
    {
      "cell_type": "markdown",
      "source": [
        "#vendo o tamanho do array\n",
        "\n",
        "#####lembrando que é possível pegar tanto tamanho da dimensão do array quanto a quantidade de itens"
      ],
      "metadata": {
        "id": "ibcBXwkaADsk"
      }
    },
    {
      "cell_type": "code",
      "source": [
        "zero_array = np.zeros(shape=(5, 3, 6))\n",
        "print(zero_array)"
      ],
      "metadata": {
        "colab": {
          "base_uri": "https://localhost:8080/"
        },
        "id": "42GAn7BBALmo",
        "outputId": "7ea8fc61-b126-426b-9ef3-bbb914a7cb35"
      },
      "execution_count": 34,
      "outputs": [
        {
          "output_type": "stream",
          "name": "stdout",
          "text": [
            "[[[0. 0. 0. 0. 0. 0.]\n",
            "  [0. 0. 0. 0. 0. 0.]\n",
            "  [0. 0. 0. 0. 0. 0.]]\n",
            "\n",
            " [[0. 0. 0. 0. 0. 0.]\n",
            "  [0. 0. 0. 0. 0. 0.]\n",
            "  [0. 0. 0. 0. 0. 0.]]\n",
            "\n",
            " [[0. 0. 0. 0. 0. 0.]\n",
            "  [0. 0. 0. 0. 0. 0.]\n",
            "  [0. 0. 0. 0. 0. 0.]]\n",
            "\n",
            " [[0. 0. 0. 0. 0. 0.]\n",
            "  [0. 0. 0. 0. 0. 0.]\n",
            "  [0. 0. 0. 0. 0. 0.]]\n",
            "\n",
            " [[0. 0. 0. 0. 0. 0.]\n",
            "  [0. 0. 0. 0. 0. 0.]\n",
            "  [0. 0. 0. 0. 0. 0.]]]\n"
          ]
        }
      ]
    },
    {
      "cell_type": "code",
      "source": [
        "print(zero_array.shape) #pegando o tamanho do array\n",
        "print(zero_array.size) #quantidade de itens\n",
        "print(zero_array.ndim) #quantidade de dimensões/'linhas'"
      ],
      "metadata": {
        "colab": {
          "base_uri": "https://localhost:8080/"
        },
        "id": "3Rk08RdRAfvQ",
        "outputId": "8674c630-c2f4-436e-9d0f-9b5381f82462"
      },
      "execution_count": 37,
      "outputs": [
        {
          "output_type": "stream",
          "name": "stdout",
          "text": [
            "(5, 3, 6)\n",
            "90\n",
            "3\n"
          ]
        }
      ]
    },
    {
      "cell_type": "markdown",
      "source": [
        "#transformando um vetor em uma matrix\n",
        "\n",
        "#####transformando um array de uma dimensão em um array com duas dimensões"
      ],
      "metadata": {
        "id": "qT_248cOBpQ9"
      }
    },
    {
      "cell_type": "code",
      "source": [
        "vetor_a = np.array([1, 2, 3])\n",
        "print(vetor_a.shape)\n",
        "print(vetor_a.ndim)\n",
        "print(vetor_a)"
      ],
      "metadata": {
        "colab": {
          "base_uri": "https://localhost:8080/"
        },
        "id": "PQ00LtemBvxS",
        "outputId": "804abe64-a24f-44ea-bfaf-525e9177594c"
      },
      "execution_count": 42,
      "outputs": [
        {
          "output_type": "stream",
          "name": "stdout",
          "text": [
            "(3,)\n",
            "1\n",
            "[1 2 3]\n"
          ]
        }
      ]
    },
    {
      "cell_type": "code",
      "source": [
        "vetor_a_dois = vetor_a[np.newaxis,:]\n",
        "print(vetor_a_dois.shape)\n",
        "print(vetor_a_dois.ndim)\n",
        "print(vetor_a_dois)"
      ],
      "metadata": {
        "colab": {
          "base_uri": "https://localhost:8080/"
        },
        "id": "FtzCI2cdB_vB",
        "outputId": "fe44c909-5695-43bb-b8a2-8479417f0859"
      },
      "execution_count": 44,
      "outputs": [
        {
          "output_type": "stream",
          "name": "stdout",
          "text": [
            "(1, 3)\n",
            "2\n",
            "[[1 2 3]]\n"
          ]
        }
      ]
    },
    {
      "cell_type": "code",
      "source": [
        "vetor_a_dois_um = vetor_a[:,np.newaxis]\n",
        "print(vetor_a_dois_um.shape)\n",
        "print(vetor_a_dois_um.ndim)\n",
        "print(vetor_a_dois_um)"
      ],
      "metadata": {
        "colab": {
          "base_uri": "https://localhost:8080/"
        },
        "id": "ZgPrKpW6Cn6M",
        "outputId": "1c65fda4-5c56-4a38-ddfb-247451b5a463"
      },
      "execution_count": 45,
      "outputs": [
        {
          "output_type": "stream",
          "name": "stdout",
          "text": [
            "(3, 1)\n",
            "2\n",
            "[[1]\n",
            " [2]\n",
            " [3]]\n"
          ]
        }
      ]
    },
    {
      "cell_type": "markdown",
      "source": [
        "#pegando um dados específico do array"
      ],
      "metadata": {
        "id": "Oq7AQxmVDMSj"
      }
    },
    {
      "cell_type": "code",
      "source": [
        "print(vetor_a_dois_um[2][0])"
      ],
      "metadata": {
        "colab": {
          "base_uri": "https://localhost:8080/"
        },
        "id": "6uqq5D4RDOiC",
        "outputId": "9c5761c7-30c0-4e60-f0e9-dbcd6ce18b6c"
      },
      "execution_count": 48,
      "outputs": [
        {
          "output_type": "stream",
          "name": "stdout",
          "text": [
            "3\n"
          ]
        }
      ]
    },
    {
      "cell_type": "markdown",
      "source": [
        "#concatenação de array\n",
        "\n",
        "#####vamos unir dois arrays"
      ],
      "metadata": {
        "id": "_Q4TC0h5DvSG"
      }
    },
    {
      "cell_type": "code",
      "source": [
        "arr_um = np.array([1, 2, 3])\n",
        "arr_dois = np.array([4, 5, 6])\n",
        "\n",
        "arr_geral_um = np.concatenate([arr_um, arr_dois])\n",
        "arr_geral_dois = np.concatenate([arr_dois, arr_um])\n",
        "\n",
        "print(arr_geral_um)\n",
        "print(arr_geral_dois)"
      ],
      "metadata": {
        "colab": {
          "base_uri": "https://localhost:8080/"
        },
        "id": "J2NMKh0FDwwf",
        "outputId": "ebef6d74-ff81-45e6-fcd3-be3bd8efbe84"
      },
      "execution_count": 50,
      "outputs": [
        {
          "output_type": "stream",
          "name": "stdout",
          "text": [
            "[1 2 3 4 5 6]\n",
            "[4 5 6 1 2 3]\n"
          ]
        }
      ]
    },
    {
      "cell_type": "markdown",
      "source": [
        "#consultando itens de um array\n",
        "\n",
        "#####isso já foi feito, mas agora em vez de passar o caminho do item que queremos vamos passar uma regra, dai os itens que obedecerem a essa regra serão exibidos"
      ],
      "metadata": {
        "id": "zxJhZrfQE1zV"
      }
    },
    {
      "cell_type": "code",
      "source": [
        "arr_a = np.array([[1, 2, 3, 4], [5, 6, 7, 8], [9, 10, 11, 12]])\n",
        "\n",
        "maior = arr_a[arr_a >= 5]\n",
        "print(maior)\n",
        "\n",
        "par = arr_a[arr_a%2 != 0]\n",
        "print(par)"
      ],
      "metadata": {
        "colab": {
          "base_uri": "https://localhost:8080/"
        },
        "id": "BpWae7c6E39S",
        "outputId": "6849b1b0-8c56-4f86-b9f5-921243237bb7"
      },
      "execution_count": 63,
      "outputs": [
        {
          "output_type": "stream",
          "name": "stdout",
          "text": [
            "[ 5  6  7  8  9 10 11 12]\n",
            "[ 1  3  5  7  9 11]\n"
          ]
        }
      ]
    },
    {
      "cell_type": "markdown",
      "source": [
        "#operações com arrays\n",
        "\n",
        "#####é possível realizar diversas operações com arrays, como: soma, valor mínimo, valor, máximo, média, entre outros"
      ],
      "metadata": {
        "id": "EnNOVewGGIy9"
      }
    },
    {
      "cell_type": "code",
      "source": [
        "arr_soma = np.array([1, 2, 3])\n",
        "\n",
        "print(arr_soma.sum()) #soma\n",
        "print(arr_soma.min()) #menor valor\n",
        "print(arr_soma.max()) #maior valor\n",
        "print(arr_soma.mean()) #media"
      ],
      "metadata": {
        "colab": {
          "base_uri": "https://localhost:8080/"
        },
        "id": "2y_aigWOGTWW",
        "outputId": "878e3821-b42c-4f9b-f405-b2ad89e4d7f0"
      },
      "execution_count": 67,
      "outputs": [
        {
          "output_type": "stream",
          "name": "stdout",
          "text": [
            "6\n",
            "1\n",
            "3\n",
            "2.0\n"
          ]
        }
      ]
    },
    {
      "cell_type": "markdown",
      "source": [
        "#gerando números aleatórios"
      ],
      "metadata": {
        "id": "2s2CLBdSJJpU"
      }
    },
    {
      "cell_type": "code",
      "source": [
        "from numpy.random import default_rng"
      ],
      "metadata": {
        "id": "_CQ-f3VzJMCt"
      },
      "execution_count": 68,
      "outputs": []
    },
    {
      "cell_type": "code",
      "source": [
        "rng = default_rng()\n",
        "aleatorio = rng.integers(30, size=(3, 6))\n",
        "print(aleatorio)"
      ],
      "metadata": {
        "colab": {
          "base_uri": "https://localhost:8080/"
        },
        "id": "WoPh7WtFJRbd",
        "outputId": "25aa5b9b-1db1-4924-b220-23f89f53c8b7"
      },
      "execution_count": 72,
      "outputs": [
        {
          "output_type": "stream",
          "name": "stdout",
          "text": [
            "[[ 0 18 18  2 13  4]\n",
            " [29 25 18  5 29  9]\n",
            " [26  9  7 12 12 19]]\n"
          ]
        }
      ]
    },
    {
      "cell_type": "markdown",
      "source": [
        "#diferença entre arrays e listas\n",
        "\n",
        "1.   ao colocar uma lista e um array com números e strings, o array irá transformar todos os elementos em string, assim aumentando a velocidade de processamento; enquanto a lista mantém os valores inteiros como inteiros e as strings como strings. em resumo, o array não permite que exista tipos de dados diferentes dentro dele\n",
        "2.   outra diferença interessante, é que um array não exibi vírgulas enquanto a lista sim\n",
        "3.  a lista não permite realizar operações matetmaticas, exemplo, multiplicação, entre listas\n",
        "\n"
      ],
      "metadata": {
        "id": "M4mSstNPKTLa"
      }
    },
    {
      "cell_type": "code",
      "source": [
        "arr_test = np.array([1, 'mariana', 3, 4, 5, 6, 7, 8])\n",
        "print(arr_test)\n",
        "print(type(arr_test))\n",
        "\n",
        "print(\"--------------------------\")\n",
        "list_test = [1, 'mariana', 3, 4, 5, 6, 7, 8]\n",
        "print(list_test)\n",
        "print(type(list_test))"
      ],
      "metadata": {
        "colab": {
          "base_uri": "https://localhost:8080/"
        },
        "id": "UVDXjJh6KVYM",
        "outputId": "34a90544-c8e4-45d5-8b68-0c386a97beb8"
      },
      "execution_count": 76,
      "outputs": [
        {
          "output_type": "stream",
          "name": "stdout",
          "text": [
            "['1' 'mariana' '3' '4' '5' '6' '7' '8']\n",
            "<class 'numpy.ndarray'>\n",
            "--------------------------\n",
            "[1, 'mariana', 3, 4, 5, 6, 7, 8]\n",
            "<class 'list'>\n"
          ]
        }
      ]
    },
    {
      "cell_type": "markdown",
      "source": [
        "#fazendo um teste de processamento"
      ],
      "metadata": {
        "id": "GyeH-QxqMTBr"
      }
    },
    {
      "cell_type": "code",
      "source": [
        "from time import process_time"
      ],
      "metadata": {
        "id": "ZBg8ks8MMVgs"
      },
      "execution_count": 77,
      "outputs": []
    },
    {
      "cell_type": "code",
      "source": [
        "list_a = list(rng.integers(10, 100, size=1000000))\n",
        "list_b = list(rng.integers(10, 100, size=1000000))"
      ],
      "metadata": {
        "id": "Cb0HslAaM1Dv"
      },
      "execution_count": 84,
      "outputs": []
    },
    {
      "cell_type": "code",
      "source": [
        "c = []\n",
        "\n",
        "t1 = process_time()\n",
        "for i in range(len(list_a)):\n",
        "  c.append(list_a[i] * list_b[i])\n",
        "\n",
        "t2 = process_time()\n",
        "\n",
        "print(t2-t1)"
      ],
      "metadata": {
        "colab": {
          "base_uri": "https://localhost:8080/"
        },
        "id": "TQo2SItxNw4L",
        "outputId": "592f8bfa-3bc5-4474-e49a-60e464c0f5f5"
      },
      "execution_count": 81,
      "outputs": [
        {
          "output_type": "stream",
          "name": "stdout",
          "text": [
            "0.5158022220000049\n"
          ]
        }
      ]
    },
    {
      "cell_type": "code",
      "source": [
        "arr_a = rng.integers(10, 100, size=1000000)\n",
        "arr_b = rng.integers(10, 100, size=1000000)\n",
        "\n",
        "t1 = process_time()\n",
        "calc = arr_a * arr_b\n",
        "t2 = process_time()\n",
        "\n",
        "print(t2-t1)"
      ],
      "metadata": {
        "colab": {
          "base_uri": "https://localhost:8080/"
        },
        "id": "cVuYmjcZOmrO",
        "outputId": "16007c58-81ee-4308-a5d7-54e47f657a87"
      },
      "execution_count": 83,
      "outputs": [
        {
          "output_type": "stream",
          "name": "stdout",
          "text": [
            "0.009740612000001647\n"
          ]
        }
      ]
    }
  ]
}